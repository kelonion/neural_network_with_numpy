{
  "nbformat": 4,
  "nbformat_minor": 0,
  "metadata": {
    "colab": {
      "name": "neutal_network_numpy.ipynb",
      "version": "0.3.2",
      "provenance": [],
      "toc_visible": true,
      "include_colab_link": true
    },
    "kernelspec": {
      "name": "python3",
      "display_name": "Python 3"
    },
    "accelerator": "TPU"
  },
  "cells": [
    {
      "cell_type": "markdown",
      "metadata": {
        "id": "view-in-github",
        "colab_type": "text"
      },
      "source": [
        "<a href=\"https://colab.research.google.com/github/kelonion/neural_network_with_numpy/blob/master/neutal_network_numpy.ipynb\" target=\"_parent\"><img src=\"https://colab.research.google.com/assets/colab-badge.svg\" alt=\"Open In Colab\"/></a>"
      ]
    },
    {
      "metadata": {
        "id": "nevX5RNYcbXp",
        "colab_type": "text"
      },
      "cell_type": "markdown",
      "source": [
        "## Multiple Layers Neural Network for MNIST <br> Using NumPy\n",
        "\n",
        "This document illustrates the processes to train handwriting recognition model using a hand-coded multuple layers neural network on numpy.\n",
        "\n",
        "In our examples, we are using input_data.py given by the tutorial of TensorFlow to load that dataset. It is quite useful for managing our data, and handle:\n",
        "\n",
        "- Dataset downloading\n",
        "- Loading the entire dataset into numpy array"
      ]
    },
    {
      "metadata": {
        "id": "P8nbbqpsYziT",
        "colab_type": "text"
      },
      "cell_type": "markdown",
      "source": [
        "### 1. Imports"
      ]
    },
    {
      "metadata": {
        "id": "LV0x-uf4TE1h",
        "colab_type": "code",
        "colab": {}
      },
      "cell_type": "code",
      "source": [
        "import numpy as np\n",
        "import matplotlib.pyplot as plt\n",
        "from tensorflow.examples.tutorials.mnist import input_data"
      ],
      "execution_count": 0,
      "outputs": []
    },
    {
      "metadata": {
        "id": "KV5-OgUxXRvM",
        "colab_type": "text"
      },
      "cell_type": "markdown",
      "source": [
        "### 2. Dataset\n"
      ]
    },
    {
      "metadata": {
        "id": "RGiGTnFCXGbA",
        "colab_type": "code",
        "colab": {
          "base_uri": "https://localhost:8080/",
          "height": 85
        },
        "outputId": "f3c87b31-7a06-4f3d-c52c-87e6dcef8191"
      },
      "cell_type": "code",
      "source": [
        "# Import MINST data\n",
        "mnist = input_data.read_data_sets(\"/tmp/data/\", one_hot=True)"
      ],
      "execution_count": 32,
      "outputs": [
        {
          "output_type": "stream",
          "text": [
            "Extracting /tmp/data/train-images-idx3-ubyte.gz\n",
            "Extracting /tmp/data/train-labels-idx1-ubyte.gz\n",
            "Extracting /tmp/data/t10k-images-idx3-ubyte.gz\n",
            "Extracting /tmp/data/t10k-labels-idx1-ubyte.gz\n"
          ],
          "name": "stdout"
        }
      ]
    },
    {
      "metadata": {
        "id": "MERouCLbXIul",
        "colab_type": "code",
        "colab": {}
      },
      "cell_type": "code",
      "source": [
        "# Load data\n",
        "X_train = mnist.train.images\n",
        "Y_train = mnist.train.labels\n",
        "X_test = mnist.test.images\n",
        "Y_test = mnist.test.labels"
      ],
      "execution_count": 0,
      "outputs": []
    },
    {
      "metadata": {
        "id": "taBoaO3CXOgO",
        "colab_type": "code",
        "colab": {
          "base_uri": "https://localhost:8080/",
          "height": 51
        },
        "outputId": "b604b0d6-9250-4ab8-b326-a9e6a04a9afc"
      },
      "cell_type": "code",
      "source": [
        "# Shape of the data sets\n",
        "print(\"The shape of training set:\", \"X:\",X_train.shape, \"Y:\", Y_train.shape)\n",
        "print(\"The shape of test set:\", \"X:\",X_test.shape, \"Y:\", Y_test.shape)"
      ],
      "execution_count": 4,
      "outputs": [
        {
          "output_type": "stream",
          "text": [
            "The shape of training set: X: (55000, 784) Y: (55000, 10)\n",
            "The shape of test set: X: (10000, 784) Y: (10000, 10)\n"
          ],
          "name": "stdout"
        }
      ]
    },
    {
      "metadata": {
        "id": "mSpqMEEDXqrh",
        "colab_type": "code",
        "colab": {
          "base_uri": "https://localhost:8080/",
          "height": 401
        },
        "outputId": "bea763a2-7583-4e2a-f17f-9465f23d0675"
      },
      "cell_type": "code",
      "source": [
        "# Visualize the training data (the first 20 groups of data)\n",
        "ROW = 4\n",
        "COLUMN = 5\n",
        "for i in range(ROW * COLUMN):\n",
        "    image = np.reshape(X_train[i], (28, 28))  \n",
        "    plt.subplot(ROW, COLUMN, i+1)          # subplot with size (width 3, height 5)\n",
        "    plt.imshow(image, cmap='gray')  # cmap='gray' is for black and white picture.\n",
        "    plt.title('label = {}'.format(int(np.argmax(Y_train[i]))))\n",
        "    plt.axis('off')  \n",
        "plt.tight_layout()\n",
        "plt.show()"
      ],
      "execution_count": 5,
      "outputs": [
        {
          "output_type": "display_data",
          "data": {
            "image/png": "[encoded data removed]",
            "text/plain": [
              "<Figure size 576x396 with 20 Axes>"
            ]
          },
          "metadata": {
            "tags": []
          }
        }
      ]
    },
    {
      "metadata": {
        "id": "hRJMg3PSZPgZ",
        "colab_type": "text"
      },
      "cell_type": "markdown",
      "source": [
        "### 3. Neutral network functions"
      ]
    },
    {
      "metadata": {
        "id": "vu7GAF2KdCLT",
        "colab_type": "text"
      },
      "cell_type": "markdown",
      "source": [
        "#### 3.1 Parameters initialization\n"
      ]
    },
    {
      "metadata": {
        "id": "1OntydptdJcG",
        "colab_type": "code",
        "colab": {}
      },
      "cell_type": "code",
      "source": [
        "# Create a dict of parameters according to the layer structure\n",
        "def initialize_parameters(layer_dims):\n",
        "  parameters = {}\n",
        "  num_layers = len(layer_dims)\n",
        "  \n",
        "  for l in range(num_layers-1):\n",
        "    parameters['W' + str(l+1)] = np.random.randn(layer_dims[l],layer_dims[l+1]) * 0.01\n",
        "    parameters['b' + str(l+1)] = np.zeros((1, layer_dims[l+1]))\n",
        "   \n",
        "  return parameters"
      ],
      "execution_count": 0,
      "outputs": []
    },
    {
      "metadata": {
        "id": "RWsaz3oHbyhE",
        "colab_type": "text"
      },
      "cell_type": "markdown",
      "source": [
        "#### 3.2 Forward propagation"
      ]
    },
    {
      "metadata": {
        "id": "S8CEOYqUYWrw",
        "colab_type": "code",
        "colab": {}
      },
      "cell_type": "code",
      "source": [
        "# Define sigmoid function\n",
        "def sigmoid(Z):\n",
        "  A = 1 / (1 + np.exp(-Z))\n",
        "  cache = Z\n",
        "  \n",
        "  return A, cache"
      ],
      "execution_count": 0,
      "outputs": []
    },
    {
      "metadata": {
        "id": "YiJsrDZNbPaN",
        "colab_type": "code",
        "colab": {}
      },
      "cell_type": "code",
      "source": [
        "# Define relu function\n",
        "def relu(Z):\n",
        "  A = np.maximum(0, Z)\n",
        "  cache = Z\n",
        "\n",
        "  return A, cache"
      ],
      "execution_count": 0,
      "outputs": []
    },
    {
      "metadata": {
        "id": "ETxYCT-dbTdt",
        "colab_type": "code",
        "colab": {}
      },
      "cell_type": "code",
      "source": [
        "# Define linear function to compute Z\n",
        "def linear_forward(A, W, b):\n",
        "  Z = np.dot(A, W) + b\n",
        "  cache = (A, W, b)\n",
        "\n",
        "  return Z, cache"
      ],
      "execution_count": 0,
      "outputs": []
    },
    {
      "metadata": {
        "id": "e9M1cZmYtp5R",
        "colab_type": "code",
        "colab": {}
      },
      "cell_type": "code",
      "source": [
        "# Linear activation computation\n",
        "# Combine the calculation processes in one subgle layer\n",
        "def linear_activation(A, W, b, method=\"relu\"):\n",
        "  \n",
        "  if method  == \"relu\":\n",
        "    Z, cache_a = linear_forward(A, W, b)\n",
        "    A, cache_z = relu(Z)\n",
        "    \n",
        "  elif method == \"sigmoid\":\n",
        "    Z, cache_a = linear_forward(A, W, b)\n",
        "    A, cache_z = sigmoid(Z)\n",
        "    \n",
        "  act_cache = (cache_a, cache_z)\n",
        "  \n",
        "  return A, act_cache"
      ],
      "execution_count": 0,
      "outputs": []
    },
    {
      "metadata": {
        "id": "EVaSeovLlgyg",
        "colab_type": "code",
        "colab": {}
      },
      "cell_type": "code",
      "source": [
        "# Forward propagation\n",
        "def forward_prop(X, parameters):\n",
        "  num_layers = len(parameters) // 2\n",
        "  A_prev = X\n",
        "  caches = []\n",
        "  \n",
        "  # Loop over the layers using \"relu\"\n",
        "  for l in range(num_layers-1):\n",
        "    W = parameters['W' + str(l+1)]\n",
        "    b = parameters['b' + str(l+1)]\n",
        "    A, act_cache = linear_activation(A_prev, W, b, method=\"relu\")\n",
        "    caches.append(act_cache)\n",
        "    A_prev = A\n",
        "  \n",
        "  # Compute the last layer separately using \"sigmoid\"\n",
        "  W = parameters['W' + str(num_layers)]\n",
        "  b = parameters['b' + str(num_layers)]\n",
        "  \n",
        "  A, act_cache = linear_activation(A_prev, W, b, method=\"sigmoid\")\n",
        "  caches.append(act_cache)\n",
        "  \n",
        "  return  A, caches\n",
        "  "
      ],
      "execution_count": 0,
      "outputs": []
    },
    {
      "metadata": {
        "id": "NIYbvgmNrLie",
        "colab_type": "text"
      },
      "cell_type": "markdown",
      "source": [
        "#### 3.3 Cost function\n"
      ]
    },
    {
      "metadata": {
        "id": "hEPpk1vFrK-H",
        "colab_type": "code",
        "colab": {}
      },
      "cell_type": "code",
      "source": [
        "def compute_cost(A, Y):\n",
        "\n",
        "  cost = - np.mean(np.multiply(Y, np.log(A)) + np.multiply(1-Y, np.log(1-A)))\n",
        "  \n",
        "  return cost"
      ],
      "execution_count": 0,
      "outputs": []
    },
    {
      "metadata": {
        "id": "WtMhp9kdszrp",
        "colab_type": "text"
      },
      "cell_type": "markdown",
      "source": [
        "#### 3.4 Backward propagation"
      ]
    },
    {
      "metadata": {
        "id": "CBFT_se0wC_j",
        "colab_type": "code",
        "colab": {}
      },
      "cell_type": "code",
      "source": [
        "def sigmoid_back(dA, cache_z):\n",
        "  Z = cache_z\n",
        "  a = 1 / (1 + np.exp(-Z))\n",
        "  dZ = dA * a * (1-a)\n",
        "\n",
        "  return dZ"
      ],
      "execution_count": 0,
      "outputs": []
    },
    {
      "metadata": {
        "id": "AX2Ua7SEzIjC",
        "colab_type": "code",
        "colab": {}
      },
      "cell_type": "code",
      "source": [
        "def relu_back(dA, cache_z):\n",
        "  Z = cache_z\n",
        "  dZ = np.array(dA, copy=True)\n",
        "  \n",
        "  dZ[Z <= 0] = 0\n",
        "  \n",
        "  return dZ"
      ],
      "execution_count": 0,
      "outputs": []
    },
    {
      "metadata": {
        "id": "lodFwjhTzqRm",
        "colab_type": "code",
        "colab": {}
      },
      "cell_type": "code",
      "source": [
        "def linear_back(dZ, cache):\n",
        "  A_prev, W, b = cache\n",
        "  m = A_prev.shape[0]\n",
        "\n",
        "  dW = 1/m * np.dot(A_prev.T, dZ)\n",
        "  db = 1/m * np.sum(dZ, axis=0, keepdims=True)\n",
        "  dA_prev = np.dot(dZ, W.T)\n",
        "  \n",
        "  assert (dA_prev.shape == A_prev.shape)\n",
        "  assert (dW.shape == W.shape)\n",
        "  assert (db.shape == b.shape)  \n",
        "  \n",
        "  return dA_prev, dW, db"
      ],
      "execution_count": 0,
      "outputs": []
    },
    {
      "metadata": {
        "id": "QCzMUXn21tIk",
        "colab_type": "code",
        "colab": {}
      },
      "cell_type": "code",
      "source": [
        "def linear_activation_back(dA, cache, method=\"relu\"):\n",
        "  cache_a, cache_z = cache\n",
        "  \n",
        "  if method == \"relu\":\n",
        "    dZ = relu_back(dA, cache_z)\n",
        "    dA_prev, dW, db = linear_back(dZ, cache_a)\n",
        "    \n",
        "  elif method == \"sigmoid\":\n",
        "    dZ = sigmoid_back(dA, cache_z)\n",
        "    dA_prev, dW, db = linear_back(dZ, cache_a)\n",
        "    \n",
        "  return dA_prev, dW, db"
      ],
      "execution_count": 0,
      "outputs": []
    },
    {
      "metadata": {
        "id": "urHPuz0QtG8X",
        "colab_type": "code",
        "colab": {}
      },
      "cell_type": "code",
      "source": [
        "def back_prop(AL, Y, caches):\n",
        "  grads = {}\n",
        "  L = len(caches)\n",
        "  m = Y.shape[0]\n",
        "  \n",
        "  # Compute dA in the last layer individually\n",
        "  dAL = - (np.divide(Y, AL) - np.divide(1 - Y, 1 - AL))\n",
        "  current_cache = caches[-1]\n",
        "  grads[\"dA\"+str(L-1)], grads[\"dW\"+str(L)], grads[\"db\"+str(L)] = linear_activation_back(dAL, current_cache, method=\"sigmoid\")\n",
        "  \n",
        "  # Loop over the rest layers to compute dA, dW & db\n",
        "  for l in reversed(range(L-1)):\n",
        "    current_cache = caches[l]\n",
        "    dA = grads[\"dA\"+str(l+1)]\n",
        "    grads[\"dA\"+str(l)], grads[\"dW\"+str(l+1)], grads[\"db\"+str(l+1)] = linear_activation_back(dA, current_cache, method=\"relu\")\n",
        "  \n",
        "  return grads"
      ],
      "execution_count": 0,
      "outputs": []
    },
    {
      "metadata": {
        "id": "qvRBe3gh702s",
        "colab_type": "text"
      },
      "cell_type": "markdown",
      "source": [
        "#### 3.5 Update parameters"
      ]
    },
    {
      "metadata": {
        "id": "4AOS8Kzs70BV",
        "colab_type": "code",
        "colab": {}
      },
      "cell_type": "code",
      "source": [
        "def update_parameters(parameters, grads, learning_rate):\n",
        "  L = len(parameters) // 2\n",
        "  \n",
        "  for l in range(L):\n",
        "    parameters[\"W\"+str(l+1)] = parameters[\"W\"+str(l+1)] - learning_rate * grads[\"dW\"+str(l+1)]\n",
        "    parameters[\"b\"+str(l+1)] = parameters[\"b\"+str(l+1)] - learning_rate * grads[\"db\"+str(l+1)]\n",
        "    \n",
        "  return parameters"
      ],
      "execution_count": 0,
      "outputs": []
    },
    {
      "metadata": {
        "id": "1SihtpAL-_jv",
        "colab_type": "text"
      },
      "cell_type": "markdown",
      "source": [
        "#### 3.6 Prediction"
      ]
    },
    {
      "metadata": {
        "id": "laGsGx5W-7qw",
        "colab_type": "code",
        "colab": {}
      },
      "cell_type": "code",
      "source": [
        "def predict(X, Y, parameters):\n",
        "  AL, _ = forward_prop(X, parameters)\n",
        "  result = np.equal(np.argmax(AL, axis=1), np.argmax(Y, axis=1))\n",
        "  accuracy = np.mean(result)\n",
        "  \n",
        "  return accuracy"
      ],
      "execution_count": 0,
      "outputs": []
    },
    {
      "metadata": {
        "id": "yW7r2trloF52",
        "colab_type": "text"
      },
      "cell_type": "markdown",
      "source": [
        "### 4. Training model"
      ]
    },
    {
      "metadata": {
        "id": "fqXzjU0on4FC",
        "colab_type": "code",
        "colab": {}
      },
      "cell_type": "code",
      "source": [
        "# Define hyperparameters for the model\n",
        "layer_dims = [784, 25, 15, 10]\n",
        "learning_rate = 0.005\n",
        "epochs = 100\n",
        "batch_size = 32"
      ],
      "execution_count": 0,
      "outputs": []
    },
    {
      "metadata": {
        "id": "Ip4CwEcool3l",
        "colab_type": "code",
        "colab": {}
      },
      "cell_type": "code",
      "source": [
        "# Training function\n",
        "def nn_training(layer_dims, learning_rate, epochs, batch_size):\n",
        "  \n",
        "  # Initialize parameters\n",
        "  parameters = initialize_parameters(layer_dims)\n",
        "  \n",
        "  for epoch in range(epochs):\n",
        "    avg_cost = 0\n",
        "    batches = int(X_train.shape[0] / batch_size)\n",
        "    \n",
        "    # Loop over batches\n",
        "    for batch in range(batches + 1):\n",
        "      \n",
        "      # Using build-in function to divide the data into batches\n",
        "      x_train, y_train = mnist.train.next_batch(batch_size)\n",
        "      \n",
        "      AL, caches = forward_prop(x_train, parameters)\n",
        "      \n",
        "      cost = compute_cost(AL, y_train)\n",
        "      avg_cost += cost / batches\n",
        "      \n",
        "      grads = back_prop(AL, y_train, caches)\n",
        "      \n",
        "      parameters = update_parameters(parameters, grads, learning_rate)\n",
        "    \n",
        "    if epoch % 10 == 0:\n",
        "      print(\"Epoch:\", epoch, \"cost:\", avg_cost)\n",
        "      \n",
        "  return parameters"
      ],
      "execution_count": 0,
      "outputs": []
    },
    {
      "metadata": {
        "id": "Jt--Y2Nc-Ym8",
        "colab_type": "code",
        "colab": {
          "base_uri": "https://localhost:8080/",
          "height": 187
        },
        "outputId": "a1e337e0-26cf-4006-9645-be719b90c50b"
      },
      "cell_type": "code",
      "source": [
        "para = nn_training(layer_dims, learning_rate, epochs, batch_size)"
      ],
      "execution_count": 22,
      "outputs": [
        {
          "output_type": "stream",
          "text": [
            "Epoch: 0 cost: 0.4153491939049328\n",
            "Epoch: 10 cost: 0.11549562178445279\n",
            "Epoch: 20 cost: 0.05061367918074255\n",
            "Epoch: 30 cost: 0.034600400886857986\n",
            "Epoch: 40 cost: 0.027763633737991178\n",
            "Epoch: 50 cost: 0.023851042022501115\n",
            "Epoch: 60 cost: 0.021142048084047006\n",
            "Epoch: 70 cost: 0.01927486281711208\n",
            "Epoch: 80 cost: 0.017818371135846795\n",
            "Epoch: 90 cost: 0.01648641837814229\n"
          ],
          "name": "stdout"
        }
      ]
    },
    {
      "metadata": {
        "id": "NTTmwNtrTv4o",
        "colab_type": "code",
        "colab": {
          "base_uri": "https://localhost:8080/",
          "height": 34
        },
        "outputId": "7fcc2931-f48a-4ee1-ce00-74dbfc92a5a1"
      },
      "cell_type": "code",
      "source": [
        "print(\"Accuracy on test set:\", predict(X_test, Y_test, para) * 100, \"%\")"
      ],
      "execution_count": 23,
      "outputs": [
        {
          "output_type": "stream",
          "text": [
            "Accuracy on test set: 96.56 %\n"
          ],
          "name": "stdout"
        }
      ]
    },
    {
      "metadata": {
        "id": "3BE1412Vx06f",
        "colab_type": "text"
      },
      "cell_type": "markdown",
      "source": [
        "So we obtain a pretty high accuracy with a simple hand-code neural network using numpy. "
      ]
    },
    {
      "metadata": {
        "id": "miICKDBdFs59",
        "colab_type": "text"
      },
      "cell_type": "markdown",
      "source": [
        "### 5. Performance checking"
      ]
    },
    {
      "metadata": {
        "id": "8Xbh_tCw-hR0",
        "colab_type": "code",
        "colab": {
          "base_uri": "https://localhost:8080/",
          "height": 415
        },
        "outputId": "5ff14986-9bbc-4f4c-a36c-c95bcf8c9551"
      },
      "cell_type": "code",
      "source": [
        "# Select data from test set\n",
        "index = int(np.random.rand()*10000)\n",
        "\n",
        "# Check whether the prediction matches\n",
        "image = np.reshape(X_test[index], (28, 28))\n",
        "AL, _ = forward_prop(X_test[index], para)\n",
        "pred = int(np.argmax(AL, axis=1))\n",
        "print(\"Index:\", index)\n",
        "print(\"Model prediction is\", pred)\n",
        "print(\"The answer is\", int(np.argmax(Y_test[index])))\n",
        "\n",
        "# Plot the image\n",
        "plt.imshow(image, cmap='gray')\n",
        "plt.axis('off')\n"
      ],
      "execution_count": 30,
      "outputs": [
        {
          "output_type": "stream",
          "text": [
            "Index: 9295\n",
            "Model prediction is 1\n",
            "The answer is 1\n"
          ],
          "name": "stdout"
        },
        {
          "output_type": "execute_result",
          "data": {
            "text/plain": [
              "(-0.5, 27.5, 27.5, -0.5)"
            ]
          },
          "metadata": {
            "tags": []
          },
          "execution_count": 30
        },
        {
          "output_type": "display_data",
          "data": {
            "image/png": "[encoded data removed]",
            "text/plain": [
              "<Figure size 576x396 with 1 Axes>"
            ]
          },
          "metadata": {
            "tags": []
          }
        }
      ]
    },
    {
      "metadata": {
        "id": "xa-afHPhAAeZ",
        "colab_type": "code",
        "colab": {
          "base_uri": "https://localhost:8080/",
          "height": 401
        },
        "outputId": "b9e9e120-b083-46cc-e4b1-52eff7eac72b"
      },
      "cell_type": "code",
      "source": [
        "# Check for the performance on more examples\n",
        "ROW = 4\n",
        "COLUMN = 5\n",
        "random_arr = np.arange(10000)\n",
        "np.random.shuffle(random_arr)      # Shuffle the test set\n",
        "\n",
        "# Plot the results\n",
        "for i in range(ROW * COLUMN):\n",
        "    index = random_arr[i]\n",
        "    image = np.reshape(X_test[index], (28, 28))  \n",
        "    AL, _ = forward_prop(X_test[index], para)\n",
        "    pred = int(np.argmax(AL, axis=1))\n",
        "    plt.subplot(ROW, COLUMN, i+1)\n",
        "    plt.imshow(image, cmap='gray')\n",
        "    plt.title('pred = {}'.format(int(np.argmax(AL, axis=1))))\n",
        "    plt.axis('off')  \n",
        "plt.tight_layout()\n",
        "plt.show()"
      ],
      "execution_count": 31,
      "outputs": [
        {
          "output_type": "display_data",
          "data": {
            "image/png": "[encoded data removed]",
            "text/plain": [
              "<Figure size 576x396 with 20 Axes>"
            ]
          },
          "metadata": {
            "tags": []
          }
        }
      ]
    },
    {
      "metadata": {
        "id": "2AXnC2MtygRg",
        "colab_type": "text"
      },
      "cell_type": "markdown",
      "source": [
        "### Notation\n",
        "This example shows a fundamental application of neural network. There are several techniques had not been included such as hyperparameter tunning, model optimization etc. However, readers with basic knowledge about Deep Learning can easily gain an intuition of how multi-layer neural network works through this example."
      ]
    },
    {
      "metadata": {
        "id": "8dqqJuIPX1v5",
        "colab_type": "code",
        "colab": {}
      },
      "cell_type": "code",
      "source": [
        ""
      ],
      "execution_count": 0,
      "outputs": []
    }
  ]
}